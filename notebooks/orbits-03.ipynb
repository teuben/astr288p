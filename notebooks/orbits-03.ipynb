{
 "cells": [
  {
   "cell_type": "markdown",
   "metadata": {},
   "source": [
    "# Two Dimensional Galactic Orbits - Part 3\n",
    "\n",
    "The NEMO package (a collection of Unix programs) does not have a python interface (yet), so just a few comments on an integration of the type of orbit we discussed before, but now using NEMO. If you had preloaded NEMO into your shell before you started the notebook, you can also create cells with the magic\n",
    "```\n",
    "   %% script bash\n",
    "```\n",
    "and executing the cell would now execute NEMO (unix) commands. Otherwise, simply cut and paste these commands in a terminal where NEMO was preloaded. Typically this would be something like\n",
    "```\n",
    "   source /astromake/opt/nemo/4.0.0/nemo_start.sh\n",
    "```\n",
    "after which your bash shell has a number of new commands.\n",
    "\n",
    "So here are those commands:\n",
    "```\n",
    "   mkorbit out=orb1 x=1 vy=0.1\n",
    "   orblist orb1\n",
    "   \n",
    "   # the interface is described here\n",
    "   more $NEMO/src/orbit/potential/data/plummer.c \n",
    "```  \n",
    "and uses the same expression as we saw before\n",
    "$$\n",
    "    \\Phi = -  {  M  \\over    {   {(r_c^2 + r^2)}^{1/2} }  }\n",
    "$$\n",
    "\n",
    "```\n",
    "   orbint orb1 orb1a 200 0.1 1 potname=plummer mode=euler\n",
    "   ...\n",
    "   ### nemo Debug Info: Energy conservation: 0.272269\n",
    "   \n",
    "   orbint orb1 orb1b 200 0.1 potname=plummer mode=leapfrog\n",
    "   ...\n",
    "   \n",
    "   orbint orb1 orb1c 200 0.1 1 potname=plummer mode=rk2\n",
    "   ...\n",
    "   ### nemo Debug Info: Energy conservation: 0.000465693\n",
    "   \n",
    "   orbplot orb1a\n",
    "   orbplot orb1b\n",
    "   orbplot orb1c\n",
    "```"
   ]
  },
  {
   "cell_type": "markdown",
   "metadata": {},
   "source": [
    "![Euler orbit](orb1a.png \"just an example cube\")"
   ]
  },
  {
   "cell_type": "markdown",
   "metadata": {},
   "source": [
    "![Leapfrog orbit](orb1b.png \"just an example cube\")"
   ]
  },
  {
   "cell_type": "markdown",
   "metadata": {},
   "source": [
    "![Leapfrog orbit](orb1c.png \"just an example cube\")"
   ]
  },
  {
   "cell_type": "markdown",
   "metadata": {
    "collapsed": true
   },
   "source": [
    "To create the graphics in the previous commands, we had to cheat, and convert the postscript file to PNG file using one of the [ImageMagick](https://www.imagemagick.org/) commands\n",
    "```\n",
    "   orbplot orb1a yapp=orb1a.ps/vps\n",
    "   convert orb1a.ps orb1a.png\n",
    "```\n",
    "**ImageMagic** is one of those packages you can install that -- as it suggests -- has lots of us"
   ]
  }
 ],
 "metadata": {
  "anaconda-cloud": {},
  "kernelspec": {
   "display_name": "Python 3",
   "language": "python",
   "name": "python3"
  },
  "language_info": {
   "codemirror_mode": {
    "name": "ipython",
    "version": 3
   },
   "file_extension": ".py",
   "mimetype": "text/x-python",
   "name": "python",
   "nbconvert_exporter": "python",
   "pygments_lexer": "ipython3",
   "version": "3.6.2"
  }
 },
 "nbformat": 4,
 "nbformat_minor": 1
}
