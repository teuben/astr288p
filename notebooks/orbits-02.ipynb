{
 "cells": [
  {
   "cell_type": "markdown",
   "metadata": {},
   "source": [
    "# Two Dimensional Galactic Orbits - Part 2\n",
    "\n",
    "We will be using an open source package, called GalPy, that has been used in research.\n",
    "\n",
    "The code is available via github: https://github.com/jobovy/galpy\n",
    "\n",
    "A paper that describes the code via ASCL http://ascl.net/galpy\n",
    "\n",
    "To install:\n",
    "```\n",
    "   cd ASTR288\n",
    "   git clone  https://github.com/jobovy/galpy\n",
    "   cd galpy\n",
    "   # first try out a build (compilation!) - \n",
    "   #      make sure you use the right (miniconda3) python\n",
    "   which python\n",
    "   python setup.py build\n",
    "   \n",
    "   # if this all works, it can be \"installed\"\n",
    "   python setup.py install\n",
    "   \n",
    "   # this will install it within your `which python` tree\n",
    "   \n",
    "   # an alternative is to use pip:\n",
    "   pip install galpy\n",
    "   # which for this package happens to work.\n",
    "   \n",
    "```"
   ]
  },
  {
   "cell_type": "code",
   "execution_count": null,
   "metadata": {
    "collapsed": true
   },
   "outputs": [],
   "source": [
    "%matplotlib inline"
   ]
  },
  {
   "cell_type": "code",
   "execution_count": null,
   "metadata": {},
   "outputs": [],
   "source": [
    "import galpy\n",
    "import galpy.potential\n",
    "# \n",
    "print(galpy.__file__)\n",
    "print(galpy.__version__)"
   ]
  },
  {
   "cell_type": "code",
   "execution_count": null,
   "metadata": {},
   "outputs": [],
   "source": [
    "print([p for p in dir(galpy.potential) if 'Potential' in p])"
   ]
  },
  {
   "cell_type": "code",
   "execution_count": null,
   "metadata": {},
   "outputs": [],
   "source": [
    "from galpy.orbit import Orbit"
   ]
  },
  {
   "cell_type": "code",
   "execution_count": null,
   "metadata": {
    "collapsed": true
   },
   "outputs": [],
   "source": [
    "from galpy.potential import PlummerPotential\n",
    "pp = PlummerPotential(amp=1.0,b=1.0)"
   ]
  },
  {
   "cell_type": "code",
   "execution_count": null,
   "metadata": {},
   "outputs": [],
   "source": [
    "pp.vcirc(1.0)"
   ]
  },
  {
   "cell_type": "code",
   "execution_count": null,
   "metadata": {
    "collapsed": true
   },
   "outputs": [],
   "source": [
    "o1= Orbit(vxvv=[1.,0.1,1.1,0.,0.1])"
   ]
  },
  {
   "cell_type": "code",
   "execution_count": null,
   "metadata": {
    "collapsed": true
   },
   "outputs": [],
   "source": [
    "import numpy as np\n",
    "ts = np.linspace(0,100,10000)"
   ]
  },
  {
   "cell_type": "code",
   "execution_count": null,
   "metadata": {
    "collapsed": true
   },
   "outputs": [],
   "source": [
    "o1.integrate(ts,pp,method='leapfrog')"
   ]
  },
  {
   "cell_type": "code",
   "execution_count": null,
   "metadata": {
    "collapsed": true
   },
   "outputs": [],
   "source": [
    "o2= Orbit(vxvv=[1.,0.1,1.1,0.,0.1])\n",
    "o2.integrate(ts,pp,method='odeint')"
   ]
  },
  {
   "cell_type": "code",
   "execution_count": null,
   "metadata": {},
   "outputs": [],
   "source": [
    "o1.plot()\n",
    "o2.plot()"
   ]
  },
  {
   "cell_type": "code",
   "execution_count": null,
   "metadata": {},
   "outputs": [],
   "source": [
    "o1.plotE(normed=True)\n",
    "o2.plotE(normed=True)"
   ]
  }
 ],
 "metadata": {
  "anaconda-cloud": {},
  "kernelspec": {
   "display_name": "Python 3",
   "language": "python",
   "name": "python3"
  },
  "language_info": {
   "codemirror_mode": {
    "name": "ipython",
    "version": 3
   },
   "file_extension": ".py",
   "mimetype": "text/x-python",
   "name": "python",
   "nbconvert_exporter": "python",
   "pygments_lexer": "ipython3",
   "version": "3.6.2"
  }
 },
 "nbformat": 4,
 "nbformat_minor": 1
}
